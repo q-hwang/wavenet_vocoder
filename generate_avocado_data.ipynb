{
 "cells": [
  {
   "cell_type": "code",
   "execution_count": 2,
   "metadata": {},
   "outputs": [],
   "source": [
    "import numpy as np\n",
    "import pandas as pd\n",
    "from scipy.io.wavfile import read, write\n",
    "import os, glob, shutil\n",
    "from shutil import copyfile\n",
    "import pinyin\n",
    "import librosa"
   ]
  },
  {
   "cell_type": "markdown",
   "metadata": {},
   "source": [
    "### parameters"
   ]
  },
  {
   "cell_type": "code",
   "execution_count": 3,
   "metadata": {},
   "outputs": [],
   "source": [
    "path = '/home/guandao/data/avaocado_data20181222'\n",
    "out_path = '/home/guandao/data/avaocado_data20181222_all/guoguo'\n",
    "out_wav_path = os.path.join(out_path, 'wavs')\n",
    "speaker = '果果'"
   ]
  },
  {
   "cell_type": "markdown",
   "metadata": {},
   "source": [
    "### clean output directory"
   ]
  },
  {
   "cell_type": "code",
   "execution_count": 4,
   "metadata": {},
   "outputs": [],
   "source": [
    "shutil.rmtree(out_path, ignore_errors = True)\n",
    "shutil.rmtree(out_wav_path, ignore_errors = True)\n",
    "os.mkdir(out_path)\n",
    "os.mkdir(out_wav_path)"
   ]
  },
  {
   "cell_type": "markdown",
   "metadata": {},
   "source": [
    "### rename and subsample wavs "
   ]
  },
  {
   "cell_type": "code",
   "execution_count": 5,
   "metadata": {},
   "outputs": [
    {
     "name": "stdout",
     "output_type": "stream",
     "text": [
      "/home/guandao/data/avaocado_data20181222/20181119-201812/20181119-201812/雾中的黑影\n",
      "fix text:它的危害很大吗? to:它的危害很大吗？\n",
      "/home/guandao/data/avaocado_data20181222/20181119-201812/20181119-201812/舞会里的病毒\n",
      "fix text:是会让人鼻子生病的病毒吗? to:是会让人鼻子生病的病毒吗？\n",
      "/home/guandao/data/avaocado_data20181222/20181119-201812/20181119-201812/石峁古城游记\n",
      "fix text:这不是比YoYo说的两千八百多年还早嘛? to:这不是比YoYo说的两千八百多年还早嘛？\n",
      "/home/guandao/data/avaocado_data20181222/201810/1029-1102（60篇）/光明也害人\n",
      "fix text:他，他看不见我们吗？ to:他看不见我们吗？\n",
      "/home/guandao/data/avaocado_data20181222/201810/1015-1019（60篇）/果果校长的烦恼\n",
      "fix text:现在我们可以通过什么捐款啦、科研啦、投资啦之类的方法来获得收入了！ to:现在我们可以通过什么捐款啦、科研啦、投资啦之类的方式来获得收入了！\n",
      "/home/guandao/data/avaocado_data20181222/201810/1015-1019（60篇）/拍照的奇遇\n",
      "fix text:我，我果果大侠会保护你们的。 to:我果果大侠会保护你们的。\n",
      "/home/guandao/data/avaocado_data20181222/201810/1015-1019（60篇）/奇妙的乐园\n",
      "fix text:怎，怎么会这么苦啊， to:怎么会这么苦啊，\n",
      "/home/guandao/data/avaocado_data20181222/201810/1015-1019（60篇）/害人的酒精\n",
      "fix text:要不是我果果大侠身手矫捷， to:要不是我果果大侠身手矫健，\n",
      "/home/guandao/data/avaocado_data20181222/201810/1015-1019（60篇）/金枪鱼的复仇\n",
      "fix text:还有完没完了啊！ to:有完没完了啊！\n",
      "/home/guandao/data/avaocado_data20181222/201810/1015-1019（60篇）/耳朵洞的鼓膜婆婆\n",
      "fix text:鼓膜又是什么东西啊牛牛哥? to:鼓膜又是什么东西啊牛牛哥？wav\n",
      "/home/guandao/data/avaocado_data20181222/201810/1015-1019（60篇）/工厂大冒险\n",
      "fix text:这，这可是真气派啊！ to:这，这可真是气派啊！\n",
      "/home/guandao/data/avaocado_data20181222/201810/1022-1026（60篇）/危险的史莱姆\n",
      "fix text:硼砂？啊！哦 to:硼砂？\n",
      "/home/guandao/data/avaocado_data20181222/201810/1022-1026（60篇）/唐宁街的历险\n",
      "fix text:是你新的新秘密基地吗？ to:是你的新秘密基地吗？\n",
      "/home/guandao/data/avaocado_data20181222/201810/1022-1026（60篇）/危险的干燥剂\n",
      "fix text:我要吓大家一跳嘻嘻嘻…… to:我要吓大家一跳……\n",
      "/home/guandao/data/avaocado_data20181222/干音/201808/纽约寻宝计划\n",
      "fix text:而且还是全世界最大的国啊? to:而且还是全世界最大的国啊？\n",
      "/home/guandao/data/avaocado_data20181222/201808/带背景音/甜蜜的美梦\n",
      "fix text:是，是谁长得好看就得第一名吗? to:是，是谁长得好看就得第一名吗？\n",
      "/home/guandao/data/avaocado_data20181222/201808/带背景音/大富翁的烦心事\n",
      "fix text:你猜的还挺准的， to:你还猜的挺准的，\n",
      "/home/guandao/data/avaocado_data20181222/201811/1112-1116（60篇）/果果失忆记（上）\n",
      "fix text:可是又是谁在监视我呢？ to:可是又是谁在监视我呢?\n",
      "/home/guandao/data/avaocado_data20181222/201811/1105-1109（72篇）/偷沙子的人\n",
      "fix text:难道呆呆也要造房子吗? to:难道呆呆也要造房子吗？\n",
      "total length of waves: 42182.33874999992\n",
      "total number of sentences: 18259\n"
     ]
    }
   ],
   "source": [
    "data = []\n",
    "index = 0\n",
    "n_time = 0.0\n",
    "prefix = 'avocado-' + pinyin.get(speaker,format=\"strip\") + '-'\n",
    "for excel in glob.glob(os.path.join(path, '**','*.xls'),recursive=True):\n",
    "    dir_name = os.path.dirname(excel)\n",
    "\n",
    "    df = pd.read_excel(excel).dropna();    \n",
    "    df = df[df['people'] == speaker] \n",
    "    \n",
    "    for idx, row in df.iterrows():\n",
    "        text = row[1]\n",
    "        original_wav_name = os.path.join(dir_name, 'clips', str(int(row[0])) + ' ' + row[1].strip() + '.wav')\n",
    "        wav_name = os.path.join(out_wav_path, prefix + str(index) + '.wav') \n",
    "\n",
    "        if not os.path.exists(original_wav_name):\n",
    "            for f in os.listdir(os.path.join(dir_name, 'clips')):\n",
    "                if f.startswith(str(int(row[0])) + ' '):\n",
    "                    original_wav_name = os.path.join(dir_name,'clips', f)\n",
    "                    v_text = ' '.join(f.split(' ')[1:])[:-4]\n",
    "                    print(dir_name)\n",
    "                    print(\"fix text:\" + text + \" to:\" + v_text)\n",
    "                    text = v_text\n",
    "                    break\n",
    "                    \n",
    "        rate, wav = read(original_wav_name) \n",
    "        if len(wav.shape) == 2:\n",
    "            # 2 channels\n",
    "            wav = wav.mean(axis=1)\n",
    "        subsampled = librosa.core.resample(wav.astype(float), rate, 16000).astype(np.int16)\n",
    "        write(wav_name,16000, subsampled)\n",
    "        n_time += subsampled.size / 16000\n",
    "        data.append([wav_name, pinyin.get(text,format=\"numerical\", delimiter=\" \"), len(subsampled)/16000])\n",
    "        index +=1\n",
    "\n",
    "print(\"total length of waves: \" + str(n_time))\n",
    "print(\"total number of sentences: \" + str(index))"
   ]
  },
  {
   "cell_type": "code",
   "execution_count": 6,
   "metadata": {},
   "outputs": [
    {
     "data": {
      "text/html": [
       "<div>\n",
       "<style scoped>\n",
       "    .dataframe tbody tr th:only-of-type {\n",
       "        vertical-align: middle;\n",
       "    }\n",
       "\n",
       "    .dataframe tbody tr th {\n",
       "        vertical-align: top;\n",
       "    }\n",
       "\n",
       "    .dataframe thead th {\n",
       "        text-align: right;\n",
       "    }\n",
       "</style>\n",
       "<table border=\"1\" class=\"dataframe\">\n",
       "  <thead>\n",
       "    <tr style=\"text-align: right;\">\n",
       "      <th></th>\n",
       "      <th>0</th>\n",
       "      <th>1</th>\n",
       "      <th>2</th>\n",
       "    </tr>\n",
       "  </thead>\n",
       "  <tbody>\n",
       "    <tr>\n",
       "      <th>0</th>\n",
       "      <td>/home/guandao/data/avaocado_data20181222_all/g...</td>\n",
       "      <td>Y o Y o ！</td>\n",
       "      <td>0.491000</td>\n",
       "    </tr>\n",
       "    <tr>\n",
       "      <th>1</th>\n",
       "      <td>/home/guandao/data/avaocado_data20181222_all/g...</td>\n",
       "      <td>Y o Y o ！</td>\n",
       "      <td>0.620000</td>\n",
       "    </tr>\n",
       "    <tr>\n",
       "      <th>2</th>\n",
       "      <td>/home/guandao/data/avaocado_data20181222_all/g...</td>\n",
       "      <td>wo3 he2 niu2 niu2 ge1 dao4 le5 ，</td>\n",
       "      <td>1.240000</td>\n",
       "    </tr>\n",
       "    <tr>\n",
       "      <th>3</th>\n",
       "      <td>/home/guandao/data/avaocado_data20181222_all/g...</td>\n",
       "      <td>ni3 kuai4 kai1 men2 ya1 ！</td>\n",
       "      <td>1.474000</td>\n",
       "    </tr>\n",
       "    <tr>\n",
       "      <th>4</th>\n",
       "      <td>/home/guandao/data/avaocado_data20181222_all/g...</td>\n",
       "      <td>Y o Y o ni3 zen3 yao1 le5 ？</td>\n",
       "      <td>1.965062</td>\n",
       "    </tr>\n",
       "  </tbody>\n",
       "</table>\n",
       "</div>"
      ],
      "text/plain": [
       "                                                   0  \\\n",
       "0  /home/guandao/data/avaocado_data20181222_all/g...   \n",
       "1  /home/guandao/data/avaocado_data20181222_all/g...   \n",
       "2  /home/guandao/data/avaocado_data20181222_all/g...   \n",
       "3  /home/guandao/data/avaocado_data20181222_all/g...   \n",
       "4  /home/guandao/data/avaocado_data20181222_all/g...   \n",
       "\n",
       "                                  1         2  \n",
       "0                         Y o Y o ！  0.491000  \n",
       "1                         Y o Y o ！  0.620000  \n",
       "2  wo3 he2 niu2 niu2 ge1 dao4 le5 ，  1.240000  \n",
       "3         ni3 kuai4 kai1 men2 ya1 ！  1.474000  \n",
       "4       Y o Y o ni3 zen3 yao1 le5 ？  1.965062  "
      ]
     },
     "execution_count": 6,
     "metadata": {},
     "output_type": "execute_result"
    }
   ],
   "source": [
    "df = pd.DataFrame(data)\n",
    "df.head()"
   ]
  },
  {
   "cell_type": "code",
   "execution_count": 16,
   "metadata": {},
   "outputs": [],
   "source": [
    "df = df[df[2] < 20]"
   ]
  },
  {
   "cell_type": "code",
   "execution_count": 19,
   "metadata": {},
   "outputs": [
    {
     "data": {
      "text/html": [
       "<div>\n",
       "<style scoped>\n",
       "    .dataframe tbody tr th:only-of-type {\n",
       "        vertical-align: middle;\n",
       "    }\n",
       "\n",
       "    .dataframe tbody tr th {\n",
       "        vertical-align: top;\n",
       "    }\n",
       "\n",
       "    .dataframe thead th {\n",
       "        text-align: right;\n",
       "    }\n",
       "</style>\n",
       "<table border=\"1\" class=\"dataframe\">\n",
       "  <thead>\n",
       "    <tr style=\"text-align: right;\">\n",
       "      <th></th>\n",
       "      <th>2</th>\n",
       "    </tr>\n",
       "  </thead>\n",
       "  <tbody>\n",
       "    <tr>\n",
       "      <th>count</th>\n",
       "      <td>18254.000000</td>\n",
       "    </tr>\n",
       "    <tr>\n",
       "      <th>mean</th>\n",
       "      <td>2.258195</td>\n",
       "    </tr>\n",
       "    <tr>\n",
       "      <th>std</th>\n",
       "      <td>1.198522</td>\n",
       "    </tr>\n",
       "    <tr>\n",
       "      <th>min</th>\n",
       "      <td>0.109063</td>\n",
       "    </tr>\n",
       "    <tr>\n",
       "      <th>25%</th>\n",
       "      <td>1.379063</td>\n",
       "    </tr>\n",
       "    <tr>\n",
       "      <th>50%</th>\n",
       "      <td>2.071531</td>\n",
       "    </tr>\n",
       "    <tr>\n",
       "      <th>75%</th>\n",
       "      <td>2.911766</td>\n",
       "    </tr>\n",
       "    <tr>\n",
       "      <th>max</th>\n",
       "      <td>12.427000</td>\n",
       "    </tr>\n",
       "  </tbody>\n",
       "</table>\n",
       "</div>"
      ],
      "text/plain": [
       "                  2\n",
       "count  18254.000000\n",
       "mean       2.258195\n",
       "std        1.198522\n",
       "min        0.109063\n",
       "25%        1.379063\n",
       "50%        2.071531\n",
       "75%        2.911766\n",
       "max       12.427000"
      ]
     },
     "execution_count": 19,
     "metadata": {},
     "output_type": "execute_result"
    }
   ],
   "source": [
    "df.describe()"
   ]
  },
  {
   "cell_type": "markdown",
   "metadata": {},
   "source": [
    "### generate train and eval txts"
   ]
  },
  {
   "cell_type": "code",
   "execution_count": 20,
   "metadata": {},
   "outputs": [],
   "source": [
    "r = np.random.rand(df.shape[0])\n",
    "train = df[r < 0.9]\n",
    "evalu = df[r > 0.9]"
   ]
  },
  {
   "cell_type": "code",
   "execution_count": 26,
   "metadata": {},
   "outputs": [
    {
     "data": {
      "text/plain": [
       "0.9006705233885157"
      ]
     },
     "execution_count": 26,
     "metadata": {},
     "output_type": "execute_result"
    }
   ],
   "source": [
    "train[2].sum() / df[2].sum()"
   ]
  },
  {
   "cell_type": "code",
   "execution_count": 24,
   "metadata": {},
   "outputs": [],
   "source": [
    "# for small data experiment\n",
    "train.to_csv(os.path.join(out_path, \"train.txt\"), sep='|',index=False, header=None)\n",
    "evalu.to_csv(os.path.join(out_path, \"eval.txt\"), sep='|',index=False, header=None)"
   ]
  },
  {
   "cell_type": "code",
   "execution_count": null,
   "metadata": {},
   "outputs": [],
   "source": []
  }
 ],
 "metadata": {
  "kernelspec": {
   "display_name": "Python 3",
   "language": "python",
   "name": "python3"
  },
  "language_info": {
   "codemirror_mode": {
    "name": "ipython",
    "version": 3
   },
   "file_extension": ".py",
   "mimetype": "text/x-python",
   "name": "python",
   "nbconvert_exporter": "python",
   "pygments_lexer": "ipython3",
   "version": "3.7.0"
  }
 },
 "nbformat": 4,
 "nbformat_minor": 2
}
