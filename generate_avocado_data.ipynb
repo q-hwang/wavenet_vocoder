{
 "cells": [
  {
   "cell_type": "code",
   "execution_count": 1,
   "metadata": {},
   "outputs": [],
   "source": [
    "import numpy as np\n",
    "import pandas as pd\n",
    "from scipy.io.wavfile import read, write\n",
    "import os, glob, shutil\n",
    "from shutil import copyfile\n",
    "import pinyin\n",
    "import librosa"
   ]
  },
  {
   "cell_type": "markdown",
   "metadata": {},
   "source": [
    "### parameters"
   ]
  },
  {
   "cell_type": "code",
   "execution_count": 5,
   "metadata": {},
   "outputs": [],
   "source": [
    "path = '/datasets/AVOCADO/raw_small_data'\n",
    "out_path = '/datasets/AVOCADO/small_data/guoguo'\n",
    "out_wav_path = os.path.join(out_path, 'wavs')\n",
    "speaker = '果果'"
   ]
  },
  {
   "cell_type": "markdown",
   "metadata": {},
   "source": [
    "### clean output directory"
   ]
  },
  {
   "cell_type": "code",
   "execution_count": 3,
   "metadata": {},
   "outputs": [],
   "source": [
    "shutil.rmtree(out_path, ignore_errors = True)\n",
    "shutil.rmtree(out_wav_path, ignore_errors = True)\n",
    "os.mkdir(out_path)\n",
    "os.mkdir(out_wav_path)"
   ]
  },
  {
   "cell_type": "markdown",
   "metadata": {},
   "source": [
    "### rename and subsample wavs "
   ]
  },
  {
   "cell_type": "code",
   "execution_count": 6,
   "metadata": {},
   "outputs": [],
   "source": [
    "data = []\n",
    "index = 0\n",
    "prefix = 'avocado-' + pinyin.get(speaker,format=\"strip\") + '-'\n",
    "for excel in glob.glob(os.path.join(path, '**','*.xls'),recursive=True):\n",
    "    df = pd.read_excel(excel).dropna();\n",
    "    df = df[df['people'] == speaker]\n",
    "    dir_name = os.path.dirname(excel)\n",
    "    for idx, row in df.iterrows():\n",
    "        original_wav_name = os.path.join(dir_name, 'clips', str(row[0]) + ' ' + row[1].strip() + '.wav')\n",
    "        wav_name = os.path.join(out_wav_path, prefix + str(index) + '.wav')     \n",
    "        rate, wav = read(original_wav_name) \n",
    "        subsampled = librosa.core.resample(wav.astype(float), rate, 16000).astype(np.int16)\n",
    "        write(wav_name,16000, subsampled)\n",
    "        data.append([wav_name, pinyin.get(row[1],format=\"numerical\", delimiter=\" \")])\n",
    "        index +=1"
   ]
  },
  {
   "cell_type": "code",
   "execution_count": 7,
   "metadata": {},
   "outputs": [
    {
     "data": {
      "text/html": [
       "<div>\n",
       "<style scoped>\n",
       "    .dataframe tbody tr th:only-of-type {\n",
       "        vertical-align: middle;\n",
       "    }\n",
       "\n",
       "    .dataframe tbody tr th {\n",
       "        vertical-align: top;\n",
       "    }\n",
       "\n",
       "    .dataframe thead th {\n",
       "        text-align: right;\n",
       "    }\n",
       "</style>\n",
       "<table border=\"1\" class=\"dataframe\">\n",
       "  <thead>\n",
       "    <tr style=\"text-align: right;\">\n",
       "      <th></th>\n",
       "      <th>0</th>\n",
       "      <th>1</th>\n",
       "    </tr>\n",
       "  </thead>\n",
       "  <tbody>\n",
       "    <tr>\n",
       "      <th>0</th>\n",
       "      <td>/datasets/AVOCADO/small_data/guoguo/wavs/avoca...</td>\n",
       "      <td>xi1 xi1 … …</td>\n",
       "    </tr>\n",
       "    <tr>\n",
       "      <th>1</th>\n",
       "      <td>/datasets/AVOCADO/small_data/guoguo/wavs/avoca...</td>\n",
       "      <td>zhe4 mei2 shi2 yao1 li4 hai4 de5 la5 ！</td>\n",
       "    </tr>\n",
       "    <tr>\n",
       "      <th>2</th>\n",
       "      <td>/datasets/AVOCADO/small_data/guoguo/wavs/avoca...</td>\n",
       "      <td>xiao3 yi4 si1 xiao3 yi4 si1 ！</td>\n",
       "    </tr>\n",
       "    <tr>\n",
       "      <th>3</th>\n",
       "      <td>/datasets/AVOCADO/small_data/guoguo/wavs/avoca...</td>\n",
       "      <td>jin1 tian1 ken3 ding4 shi4 lao3 tian1 ye2 si4 ...</td>\n",
       "    </tr>\n",
       "    <tr>\n",
       "      <th>4</th>\n",
       "      <td>/datasets/AVOCADO/small_data/guoguo/wavs/avoca...</td>\n",
       "      <td>kao3 shi4 de5 shi2 hou4 ，</td>\n",
       "    </tr>\n",
       "  </tbody>\n",
       "</table>\n",
       "</div>"
      ],
      "text/plain": [
       "                                                   0  \\\n",
       "0  /datasets/AVOCADO/small_data/guoguo/wavs/avoca...   \n",
       "1  /datasets/AVOCADO/small_data/guoguo/wavs/avoca...   \n",
       "2  /datasets/AVOCADO/small_data/guoguo/wavs/avoca...   \n",
       "3  /datasets/AVOCADO/small_data/guoguo/wavs/avoca...   \n",
       "4  /datasets/AVOCADO/small_data/guoguo/wavs/avoca...   \n",
       "\n",
       "                                                   1  \n",
       "0                                        xi1 xi1 … …  \n",
       "1             zhe4 mei2 shi2 yao1 li4 hai4 de5 la5 ！  \n",
       "2                      xiao3 yi4 si1 xiao3 yi4 si1 ！  \n",
       "3  jin1 tian1 ken3 ding4 shi4 lao3 tian1 ye2 si4 ...  \n",
       "4                          kao3 shi4 de5 shi2 hou4 ，  "
      ]
     },
     "execution_count": 7,
     "metadata": {},
     "output_type": "execute_result"
    }
   ],
   "source": [
    "df = pd.DataFrame(data)\n",
    "df.head()"
   ]
  },
  {
   "cell_type": "markdown",
   "metadata": {},
   "source": [
    "### generate train and eval txts"
   ]
  },
  {
   "cell_type": "code",
   "execution_count": 8,
   "metadata": {},
   "outputs": [],
   "source": [
    "# r = np.random.rand(df.shape[0])\n",
    "# train = df[r < 0.8]\n",
    "# evalu = df[r > 0.8]"
   ]
  },
  {
   "cell_type": "code",
   "execution_count": 9,
   "metadata": {},
   "outputs": [],
   "source": [
    "# for small data experiment\n",
    "df.to_csv(os.path.join(out_path, \"train.txt\"), sep='|',index=False, header=None)\n",
    "#df.to_csv(os.path.join(out_path, \"eval.txt\"), sep='|',index=False, header=None)"
   ]
  },
  {
   "cell_type": "code",
   "execution_count": null,
   "metadata": {},
   "outputs": [],
   "source": []
  }
 ],
 "metadata": {
  "kernelspec": {
   "display_name": "Python 3",
   "language": "python",
   "name": "python3"
  },
  "language_info": {
   "codemirror_mode": {
    "name": "ipython",
    "version": 3
   },
   "file_extension": ".py",
   "mimetype": "text/x-python",
   "name": "python",
   "nbconvert_exporter": "python",
   "pygments_lexer": "ipython3",
   "version": "3.6.5"
  }
 },
 "nbformat": 4,
 "nbformat_minor": 2
}
