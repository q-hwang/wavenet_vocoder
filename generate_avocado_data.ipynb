{
 "cells": [
  {
   "cell_type": "code",
   "execution_count": 1,
   "metadata": {},
   "outputs": [],
   "source": [
    "import numpy as np\n",
    "import pandas as pd\n",
    "from scipy.io.wavfile import read, write\n",
    "import os, glob, shutil\n",
    "from shutil import copyfile\n",
    "from chinese_process import expand, get_pinyin, combine_with_zero, combine, seperate\n",
    "import librosa\n",
    "import re"
   ]
  },
  {
   "cell_type": "markdown",
   "metadata": {},
   "source": [
    "### parameters"
   ]
  },
  {
   "cell_type": "code",
   "execution_count": 2,
   "metadata": {},
   "outputs": [],
   "source": [
    "path = '/home/guandao/data/avaocado_data20181222'\n",
    "out_path = '/home/guandao/data/avaocado_data20181222_all/guoguo22050_expanded'\n",
    "out_wav_path = os.path.join(out_path, 'wavs')\n",
    "speaker = '果果'"
   ]
  },
  {
   "cell_type": "markdown",
   "metadata": {},
   "source": [
    "### clean output directory"
   ]
  },
  {
   "cell_type": "code",
   "execution_count": 3,
   "metadata": {},
   "outputs": [],
   "source": [
    "shutil.rmtree(out_path, ignore_errors = True)\n",
    "shutil.rmtree(out_wav_path, ignore_errors = True)\n",
    "os.mkdir(out_path)\n",
    "os.mkdir(out_wav_path)"
   ]
  },
  {
   "cell_type": "markdown",
   "metadata": {},
   "source": [
    "### rename and subsample wavs "
   ]
  },
  {
   "cell_type": "code",
   "execution_count": 4,
   "metadata": {},
   "outputs": [],
   "source": [
    "def expand_text(sentence):\n",
    "    a = ['你打119干嘛？', '只要998，','只要998……','什么C什么19？','我……我要回家研究研究这个C919，','啊！没想到这个G20峰会原来那么重要，',\n",
    "         '保质期这里写着611，','把119倒着看成611了！']\n",
    "    b = ['这都62年了啊！']\n",
    "    c = ['我们约在明天下午2点半见面可以吗？','到比赛的城市坐高铁也至少要2个多小时，']\n",
    "\n",
    "\n",
    "    if sentence in a:\n",
    "        return re.sub('[0-9]+', (lambda s: seperate(s.group())) ,sentence)\n",
    "\n",
    "    elif sentence in b:\n",
    "        return re.sub('[0-9]+', (lambda s: combine_with_zero(s.group())) ,sentence)\n",
    "\n",
    "    elif sentence in c:\n",
    "        return re.sub('[0-9]+', '两' ,sentence)\n",
    "\n",
    "    elif sentence == '我总是7：00到学校去跑步。':\n",
    "        return '我总是七点到学校去跑步。'\n",
    "\n",
    "    else:\n",
    "        return expand(sentence)\n",
    "\n"
   ]
  },
  {
   "cell_type": "code",
   "execution_count": 5,
   "metadata": {},
   "outputs": [
    {
     "name": "stdout",
     "output_type": "stream",
     "text": [
      "total length of waves: 42177.56662131507\n",
      "total number of sentences: 18257\n"
     ]
    }
   ],
   "source": [
    "data = []\n",
    "index = 0\n",
    "n_time = 0.0\n",
    "prefix = 'avocado-guoguo-'\n",
    "for excel in glob.glob(os.path.join(path, '**','*.xls'),recursive=True):\n",
    "    dir_name = os.path.dirname(excel)\n",
    "\n",
    "    df = pd.read_excel(excel).dropna();    \n",
    "    df = df[df['people'] == speaker] \n",
    "    \n",
    "    for idx, row in df.iterrows():\n",
    "        text = row[1]\n",
    "        original_wav_name = os.path.join(dir_name, 'clips', str(int(row[0])) + ' ' + row[1].strip() + '.wav')\n",
    "        wav_name = os.path.join(out_wav_path, prefix + str(index) + '.wav') \n",
    "\n",
    "        if not os.path.exists(original_wav_name):\n",
    "            for f in os.listdir(os.path.join(dir_name, 'clips')):\n",
    "                if f.startswith(str(int(row[0])) + ' '):\n",
    "                    original_wav_name = os.path.join(dir_name,'clips', f)\n",
    "                    v_text = ' '.join(f.split(' ')[1:])[:-4]\n",
    "#                     print(dir_name)\n",
    "#                     print(\"fix text:\" + text + \" to:\" + v_text)\n",
    "                    text = v_text\n",
    "                    break\n",
    "                    \n",
    "        rate, wav = read(original_wav_name) \n",
    "            \n",
    "        if len(wav.shape) == 2:\n",
    "            # 2 channels\n",
    "            wav = wav.mean(axis=1)\n",
    "        subsampled = librosa.core.resample(wav.astype(float), rate, 22050).astype(np.int16)\n",
    "        write(wav_name,22050, subsampled)\n",
    "        t = subsampled.size / 22050\n",
    "        n_time += t\n",
    "        text = expand_text(text)\n",
    "        text = get_pinyin(text)\n",
    "        data.append([wav_name, text, t])\n",
    "        index +=1\n",
    "\n",
    "print(\"total length of waves: \" + str(n_time))\n",
    "print(\"total number of sentences: \" + str(index))"
   ]
  },
  {
   "cell_type": "code",
   "execution_count": 6,
   "metadata": {
    "scrolled": true
   },
   "outputs": [
    {
     "data": {
      "text/html": [
       "<div>\n",
       "<style scoped>\n",
       "    .dataframe tbody tr th:only-of-type {\n",
       "        vertical-align: middle;\n",
       "    }\n",
       "\n",
       "    .dataframe tbody tr th {\n",
       "        vertical-align: top;\n",
       "    }\n",
       "\n",
       "    .dataframe thead th {\n",
       "        text-align: right;\n",
       "    }\n",
       "</style>\n",
       "<table border=\"1\" class=\"dataframe\">\n",
       "  <thead>\n",
       "    <tr style=\"text-align: right;\">\n",
       "      <th></th>\n",
       "      <th>0</th>\n",
       "      <th>1</th>\n",
       "      <th>2</th>\n",
       "    </tr>\n",
       "  </thead>\n",
       "  <tbody>\n",
       "    <tr>\n",
       "      <th>0</th>\n",
       "      <td>/home/guandao/data/avaocado_data20181222_all/g...</td>\n",
       "      <td>YoYo！</td>\n",
       "      <td>0.491020</td>\n",
       "    </tr>\n",
       "    <tr>\n",
       "      <th>1</th>\n",
       "      <td>/home/guandao/data/avaocado_data20181222_all/g...</td>\n",
       "      <td>YoYo！</td>\n",
       "      <td>0.620000</td>\n",
       "    </tr>\n",
       "    <tr>\n",
       "      <th>2</th>\n",
       "      <td>/home/guandao/data/avaocado_data20181222_all/g...</td>\n",
       "      <td>wo3 he2 niu2 niu2 ge1 dao4 le ，</td>\n",
       "      <td>1.240000</td>\n",
       "    </tr>\n",
       "    <tr>\n",
       "      <th>3</th>\n",
       "      <td>/home/guandao/data/avaocado_data20181222_all/g...</td>\n",
       "      <td>ni3 kuai4 kai1 men2 ya ！</td>\n",
       "      <td>1.474014</td>\n",
       "    </tr>\n",
       "    <tr>\n",
       "      <th>4</th>\n",
       "      <td>/home/guandao/data/avaocado_data20181222_all/g...</td>\n",
       "      <td>YoYo ni3 zen3 me le ？</td>\n",
       "      <td>1.965034</td>\n",
       "    </tr>\n",
       "  </tbody>\n",
       "</table>\n",
       "</div>"
      ],
      "text/plain": [
       "                                                   0  \\\n",
       "0  /home/guandao/data/avaocado_data20181222_all/g...   \n",
       "1  /home/guandao/data/avaocado_data20181222_all/g...   \n",
       "2  /home/guandao/data/avaocado_data20181222_all/g...   \n",
       "3  /home/guandao/data/avaocado_data20181222_all/g...   \n",
       "4  /home/guandao/data/avaocado_data20181222_all/g...   \n",
       "\n",
       "                                 1         2  \n",
       "0                            YoYo！  0.491020  \n",
       "1                            YoYo！  0.620000  \n",
       "2  wo3 he2 niu2 niu2 ge1 dao4 le ，  1.240000  \n",
       "3         ni3 kuai4 kai1 men2 ya ！  1.474014  \n",
       "4            YoYo ni3 zen3 me le ？  1.965034  "
      ]
     },
     "execution_count": 6,
     "metadata": {},
     "output_type": "execute_result"
    }
   ],
   "source": [
    "df = pd.DataFrame(data)\n",
    "df.head()"
   ]
  },
  {
   "cell_type": "code",
   "execution_count": 7,
   "metadata": {},
   "outputs": [],
   "source": [
    "# remove too long\n",
    "df = df[df[2] < 20]"
   ]
  },
  {
   "cell_type": "code",
   "execution_count": 8,
   "metadata": {},
   "outputs": [],
   "source": [
    "# remove too short\n",
    "df = df[-((list((map(lambda s: len(s.split(' ')) < 4,df[1])))&(df[2] < 3)) |(df[2] < 1))]"
   ]
  },
  {
   "cell_type": "code",
   "execution_count": 9,
   "metadata": {},
   "outputs": [
    {
     "data": {
      "text/html": [
       "<div>\n",
       "<style scoped>\n",
       "    .dataframe tbody tr th:only-of-type {\n",
       "        vertical-align: middle;\n",
       "    }\n",
       "\n",
       "    .dataframe tbody tr th {\n",
       "        vertical-align: top;\n",
       "    }\n",
       "\n",
       "    .dataframe thead th {\n",
       "        text-align: right;\n",
       "    }\n",
       "</style>\n",
       "<table border=\"1\" class=\"dataframe\">\n",
       "  <thead>\n",
       "    <tr style=\"text-align: right;\">\n",
       "      <th></th>\n",
       "      <th>0</th>\n",
       "      <th>1</th>\n",
       "      <th>2</th>\n",
       "    </tr>\n",
       "  </thead>\n",
       "  <tbody>\n",
       "    <tr>\n",
       "      <th>2</th>\n",
       "      <td>/home/guandao/data/avaocado_data20181222_all/g...</td>\n",
       "      <td>wo3 he2 niu2 niu2 ge1 dao4 le ，</td>\n",
       "      <td>1.240000</td>\n",
       "    </tr>\n",
       "    <tr>\n",
       "      <th>3</th>\n",
       "      <td>/home/guandao/data/avaocado_data20181222_all/g...</td>\n",
       "      <td>ni3 kuai4 kai1 men2 ya ！</td>\n",
       "      <td>1.474014</td>\n",
       "    </tr>\n",
       "    <tr>\n",
       "      <th>4</th>\n",
       "      <td>/home/guandao/data/avaocado_data20181222_all/g...</td>\n",
       "      <td>YoYo ni3 zen3 me le ？</td>\n",
       "      <td>1.965034</td>\n",
       "    </tr>\n",
       "    <tr>\n",
       "      <th>5</th>\n",
       "      <td>/home/guandao/data/avaocado_data20181222_all/g...</td>\n",
       "      <td>ni3 zen3 me kan4 qi3 lai2 na4 me sheng1 qi4 ne ？</td>\n",
       "      <td>2.432018</td>\n",
       "    </tr>\n",
       "    <tr>\n",
       "      <th>6</th>\n",
       "      <td>/home/guandao/data/avaocado_data20181222_all/g...</td>\n",
       "      <td>ni3 dou1 kuai4 bian4 cheng2 mao4 hei1 qi4 de d...</td>\n",
       "      <td>3.614014</td>\n",
       "    </tr>\n",
       "  </tbody>\n",
       "</table>\n",
       "</div>"
      ],
      "text/plain": [
       "                                                   0  \\\n",
       "2  /home/guandao/data/avaocado_data20181222_all/g...   \n",
       "3  /home/guandao/data/avaocado_data20181222_all/g...   \n",
       "4  /home/guandao/data/avaocado_data20181222_all/g...   \n",
       "5  /home/guandao/data/avaocado_data20181222_all/g...   \n",
       "6  /home/guandao/data/avaocado_data20181222_all/g...   \n",
       "\n",
       "                                                   1         2  \n",
       "2                    wo3 he2 niu2 niu2 ge1 dao4 le ，  1.240000  \n",
       "3                           ni3 kuai4 kai1 men2 ya ！  1.474014  \n",
       "4                              YoYo ni3 zen3 me le ？  1.965034  \n",
       "5   ni3 zen3 me kan4 qi3 lai2 na4 me sheng1 qi4 ne ？  2.432018  \n",
       "6  ni3 dou1 kuai4 bian4 cheng2 mao4 hei1 qi4 de d...  3.614014  "
      ]
     },
     "execution_count": 9,
     "metadata": {},
     "output_type": "execute_result"
    }
   ],
   "source": [
    "df.head()"
   ]
  },
  {
   "cell_type": "code",
   "execution_count": 10,
   "metadata": {
    "scrolled": true
   },
   "outputs": [
    {
     "data": {
      "text/html": [
       "<div>\n",
       "<style scoped>\n",
       "    .dataframe tbody tr th:only-of-type {\n",
       "        vertical-align: middle;\n",
       "    }\n",
       "\n",
       "    .dataframe tbody tr th {\n",
       "        vertical-align: top;\n",
       "    }\n",
       "\n",
       "    .dataframe thead th {\n",
       "        text-align: right;\n",
       "    }\n",
       "</style>\n",
       "<table border=\"1\" class=\"dataframe\">\n",
       "  <thead>\n",
       "    <tr style=\"text-align: right;\">\n",
       "      <th></th>\n",
       "      <th>2</th>\n",
       "    </tr>\n",
       "  </thead>\n",
       "  <tbody>\n",
       "    <tr>\n",
       "      <th>count</th>\n",
       "      <td>15817.000000</td>\n",
       "    </tr>\n",
       "    <tr>\n",
       "      <th>mean</th>\n",
       "      <td>2.489386</td>\n",
       "    </tr>\n",
       "    <tr>\n",
       "      <th>std</th>\n",
       "      <td>1.117886</td>\n",
       "    </tr>\n",
       "    <tr>\n",
       "      <th>min</th>\n",
       "      <td>1.000000</td>\n",
       "    </tr>\n",
       "    <tr>\n",
       "      <th>25%</th>\n",
       "      <td>1.644989</td>\n",
       "    </tr>\n",
       "    <tr>\n",
       "      <th>50%</th>\n",
       "      <td>2.272018</td>\n",
       "    </tr>\n",
       "    <tr>\n",
       "      <th>75%</th>\n",
       "      <td>3.061995</td>\n",
       "    </tr>\n",
       "    <tr>\n",
       "      <th>max</th>\n",
       "      <td>12.426984</td>\n",
       "    </tr>\n",
       "  </tbody>\n",
       "</table>\n",
       "</div>"
      ],
      "text/plain": [
       "                  2\n",
       "count  15817.000000\n",
       "mean       2.489386\n",
       "std        1.117886\n",
       "min        1.000000\n",
       "25%        1.644989\n",
       "50%        2.272018\n",
       "75%        3.061995\n",
       "max       12.426984"
      ]
     },
     "execution_count": 10,
     "metadata": {},
     "output_type": "execute_result"
    }
   ],
   "source": [
    "df.describe()"
   ]
  },
  {
   "cell_type": "code",
   "execution_count": 11,
   "metadata": {},
   "outputs": [
    {
     "data": {
      "text/plain": [
       "0    /home/guandao/data/avaocado_data20181222_all/g...\n",
       "1    wo3 he2 niu2 niu2 ge1 dao4 le ，ni3 kuai4 kai1 ...\n",
       "2                                              39374.6\n",
       "dtype: object"
      ]
     },
     "execution_count": 11,
     "metadata": {},
     "output_type": "execute_result"
    }
   ],
   "source": [
    "df.sum()"
   ]
  },
  {
   "cell_type": "markdown",
   "metadata": {},
   "source": [
    "### generate train and eval txts"
   ]
  },
  {
   "cell_type": "code",
   "execution_count": 12,
   "metadata": {},
   "outputs": [],
   "source": [
    "r = np.random.rand(df.shape[0])\n",
    "train = df[r < 0.9]\n",
    "evalu = df[r > 0.9]"
   ]
  },
  {
   "cell_type": "code",
   "execution_count": 13,
   "metadata": {},
   "outputs": [
    {
     "data": {
      "text/plain": [
       "0.8954304553645492"
      ]
     },
     "execution_count": 13,
     "metadata": {},
     "output_type": "execute_result"
    }
   ],
   "source": [
    "train[2].sum() / df[2].sum()"
   ]
  },
  {
   "cell_type": "code",
   "execution_count": 14,
   "metadata": {},
   "outputs": [],
   "source": [
    "# for small data experiment\n",
    "train.to_csv(os.path.join(out_path, \"train.txt\"), sep='|',index=False, header=None)\n",
    "evalu.to_csv(os.path.join(out_path, \"eval.txt\"), sep='|',index=False, header=None)"
   ]
  },
  {
   "cell_type": "code",
   "execution_count": null,
   "metadata": {},
   "outputs": [],
   "source": []
  }
 ],
 "metadata": {
  "kernelspec": {
   "display_name": "Python 3",
   "language": "python",
   "name": "python3"
  },
  "language_info": {
   "codemirror_mode": {
    "name": "ipython",
    "version": 3
   },
   "file_extension": ".py",
   "mimetype": "text/x-python",
   "name": "python",
   "nbconvert_exporter": "python",
   "pygments_lexer": "ipython3",
   "version": "3.7.0"
  }
 },
 "nbformat": 4,
 "nbformat_minor": 2
}
